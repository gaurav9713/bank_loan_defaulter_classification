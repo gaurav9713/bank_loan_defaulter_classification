{
 "cells": [
  {
   "cell_type": "code",
   "execution_count": 1,
   "metadata": {},
   "outputs": [
    {
     "name": "stderr",
     "output_type": "stream",
     "text": [
      "Using TensorFlow backend.\n"
     ]
    }
   ],
   "source": [
    "import os\n",
    "import pandas as pd\n",
    "import numpy as np\n",
    "import matplotlib.pyplot as plt\n",
    "import seaborn as sns\n",
    "from fancyimpute import KNN\n",
    "import statsmodels.api as sm\n",
    "import scikitplot as skplt\n",
    "from sklearn.model_selection import train_test_split\n",
    "from sklearn import tree\n",
    "from sklearn.ensemble import RandomForestClassifier\n",
    "from sklearn.neighbors import KNeighborsClassifier\n",
    "from sklearn.naive_bayes import GaussianNB"
   ]
  },
  {
   "cell_type": "code",
   "execution_count": 2,
   "metadata": {},
   "outputs": [
    {
     "data": {
      "text/plain": [
       "'C:\\\\Users\\\\Gaurav\\\\Desktop\\\\Project 1'"
      ]
     },
     "execution_count": 2,
     "metadata": {},
     "output_type": "execute_result"
    }
   ],
   "source": [
    "os.getcwd()"
   ]
  },
  {
   "cell_type": "code",
   "execution_count": 3,
   "metadata": {},
   "outputs": [],
   "source": [
    "loan_data = pd.read_csv(\"bank-loan.csv\")"
   ]
  },
  {
   "cell_type": "code",
   "execution_count": 4,
   "metadata": {},
   "outputs": [
    {
     "data": {
      "text/html": [
       "<div>\n",
       "<style scoped>\n",
       "    .dataframe tbody tr th:only-of-type {\n",
       "        vertical-align: middle;\n",
       "    }\n",
       "\n",
       "    .dataframe tbody tr th {\n",
       "        vertical-align: top;\n",
       "    }\n",
       "\n",
       "    .dataframe thead th {\n",
       "        text-align: right;\n",
       "    }\n",
       "</style>\n",
       "<table border=\"1\" class=\"dataframe\">\n",
       "  <thead>\n",
       "    <tr style=\"text-align: right;\">\n",
       "      <th></th>\n",
       "      <th>age</th>\n",
       "      <th>ed</th>\n",
       "      <th>employ</th>\n",
       "      <th>address</th>\n",
       "      <th>income</th>\n",
       "      <th>debtinc</th>\n",
       "      <th>creddebt</th>\n",
       "      <th>othdebt</th>\n",
       "      <th>default</th>\n",
       "    </tr>\n",
       "  </thead>\n",
       "  <tbody>\n",
       "    <tr>\n",
       "      <th>0</th>\n",
       "      <td>41</td>\n",
       "      <td>3</td>\n",
       "      <td>17</td>\n",
       "      <td>12</td>\n",
       "      <td>176</td>\n",
       "      <td>9.3</td>\n",
       "      <td>11.359392</td>\n",
       "      <td>5.008608</td>\n",
       "      <td>1.0</td>\n",
       "    </tr>\n",
       "    <tr>\n",
       "      <th>1</th>\n",
       "      <td>27</td>\n",
       "      <td>1</td>\n",
       "      <td>10</td>\n",
       "      <td>6</td>\n",
       "      <td>31</td>\n",
       "      <td>17.3</td>\n",
       "      <td>1.362202</td>\n",
       "      <td>4.000798</td>\n",
       "      <td>0.0</td>\n",
       "    </tr>\n",
       "    <tr>\n",
       "      <th>2</th>\n",
       "      <td>40</td>\n",
       "      <td>1</td>\n",
       "      <td>15</td>\n",
       "      <td>14</td>\n",
       "      <td>55</td>\n",
       "      <td>5.5</td>\n",
       "      <td>0.856075</td>\n",
       "      <td>2.168925</td>\n",
       "      <td>0.0</td>\n",
       "    </tr>\n",
       "    <tr>\n",
       "      <th>3</th>\n",
       "      <td>41</td>\n",
       "      <td>1</td>\n",
       "      <td>15</td>\n",
       "      <td>14</td>\n",
       "      <td>120</td>\n",
       "      <td>2.9</td>\n",
       "      <td>2.658720</td>\n",
       "      <td>0.821280</td>\n",
       "      <td>0.0</td>\n",
       "    </tr>\n",
       "    <tr>\n",
       "      <th>4</th>\n",
       "      <td>24</td>\n",
       "      <td>2</td>\n",
       "      <td>2</td>\n",
       "      <td>0</td>\n",
       "      <td>28</td>\n",
       "      <td>17.3</td>\n",
       "      <td>1.787436</td>\n",
       "      <td>3.056564</td>\n",
       "      <td>1.0</td>\n",
       "    </tr>\n",
       "  </tbody>\n",
       "</table>\n",
       "</div>"
      ],
      "text/plain": [
       "   age  ed  employ  address  income  debtinc   creddebt   othdebt  default\n",
       "0   41   3      17       12     176      9.3  11.359392  5.008608      1.0\n",
       "1   27   1      10        6      31     17.3   1.362202  4.000798      0.0\n",
       "2   40   1      15       14      55      5.5   0.856075  2.168925      0.0\n",
       "3   41   1      15       14     120      2.9   2.658720  0.821280      0.0\n",
       "4   24   2       2        0      28     17.3   1.787436  3.056564      1.0"
      ]
     },
     "execution_count": 4,
     "metadata": {},
     "output_type": "execute_result"
    }
   ],
   "source": [
    "loan_data.head()"
   ]
  },
  {
   "cell_type": "code",
   "execution_count": 5,
   "metadata": {},
   "outputs": [],
   "source": [
    "##Missing value analysis"
   ]
  },
  {
   "cell_type": "code",
   "execution_count": 6,
   "metadata": {},
   "outputs": [],
   "source": [
    "missing_values = pd.DataFrame(loan_data.isnull().sum())"
   ]
  },
  {
   "cell_type": "code",
   "execution_count": 7,
   "metadata": {},
   "outputs": [
    {
     "data": {
      "text/html": [
       "<div>\n",
       "<style scoped>\n",
       "    .dataframe tbody tr th:only-of-type {\n",
       "        vertical-align: middle;\n",
       "    }\n",
       "\n",
       "    .dataframe tbody tr th {\n",
       "        vertical-align: top;\n",
       "    }\n",
       "\n",
       "    .dataframe thead th {\n",
       "        text-align: right;\n",
       "    }\n",
       "</style>\n",
       "<table border=\"1\" class=\"dataframe\">\n",
       "  <thead>\n",
       "    <tr style=\"text-align: right;\">\n",
       "      <th></th>\n",
       "      <th>0</th>\n",
       "    </tr>\n",
       "  </thead>\n",
       "  <tbody>\n",
       "    <tr>\n",
       "      <th>age</th>\n",
       "      <td>0</td>\n",
       "    </tr>\n",
       "    <tr>\n",
       "      <th>ed</th>\n",
       "      <td>0</td>\n",
       "    </tr>\n",
       "    <tr>\n",
       "      <th>employ</th>\n",
       "      <td>0</td>\n",
       "    </tr>\n",
       "    <tr>\n",
       "      <th>address</th>\n",
       "      <td>0</td>\n",
       "    </tr>\n",
       "    <tr>\n",
       "      <th>income</th>\n",
       "      <td>0</td>\n",
       "    </tr>\n",
       "    <tr>\n",
       "      <th>debtinc</th>\n",
       "      <td>0</td>\n",
       "    </tr>\n",
       "    <tr>\n",
       "      <th>creddebt</th>\n",
       "      <td>0</td>\n",
       "    </tr>\n",
       "    <tr>\n",
       "      <th>othdebt</th>\n",
       "      <td>0</td>\n",
       "    </tr>\n",
       "    <tr>\n",
       "      <th>default</th>\n",
       "      <td>150</td>\n",
       "    </tr>\n",
       "  </tbody>\n",
       "</table>\n",
       "</div>"
      ],
      "text/plain": [
       "            0\n",
       "age         0\n",
       "ed          0\n",
       "employ      0\n",
       "address     0\n",
       "income      0\n",
       "debtinc     0\n",
       "creddebt    0\n",
       "othdebt     0\n",
       "default   150"
      ]
     },
     "execution_count": 7,
     "metadata": {},
     "output_type": "execute_result"
    }
   ],
   "source": [
    "missing_values"
   ]
  },
  {
   "cell_type": "code",
   "execution_count": 8,
   "metadata": {},
   "outputs": [],
   "source": [
    "##Outlier Analysis"
   ]
  },
  {
   "cell_type": "code",
   "execution_count": 9,
   "metadata": {},
   "outputs": [
    {
     "data": {
      "text/plain": [
       "{'whiskers': [<matplotlib.lines.Line2D at 0x1ae20d11898>,\n",
       "  <matplotlib.lines.Line2D at 0x1ae20d11be0>],\n",
       " 'caps': [<matplotlib.lines.Line2D at 0x1ae20d11f28>,\n",
       "  <matplotlib.lines.Line2D at 0x1ae20d11eb8>],\n",
       " 'boxes': [<matplotlib.lines.Line2D at 0x1ae20d114a8>],\n",
       " 'medians': [<matplotlib.lines.Line2D at 0x1ae20d2e5f8>],\n",
       " 'fliers': [<matplotlib.lines.Line2D at 0x1ae20d2e940>],\n",
       " 'means': []}"
      ]
     },
     "execution_count": 9,
     "metadata": {},
     "output_type": "execute_result"
    },
    {
     "data": {
      "image/png": "[encoded data removed]",
      "text/plain": [
       "<Figure size 432x288 with 1 Axes>"
      ]
     },
     "metadata": {
      "needs_background": "light"
     },
     "output_type": "display_data"
    }
   ],
   "source": [
    "plt.boxplot(loan_data['address'])"
   ]
  },
  {
   "cell_type": "code",
   "execution_count": 10,
   "metadata": {},
   "outputs": [],
   "source": [
    "df = loan_data.copy()"
   ]
  },
  {
   "cell_type": "code",
   "execution_count": 11,
   "metadata": {},
   "outputs": [
    {
     "data": {
      "text/plain": [
       "0      1.0\n",
       "1      0.0\n",
       "2      0.0\n",
       "3      0.0\n",
       "4      1.0\n",
       "      ... \n",
       "845    NaN\n",
       "846    NaN\n",
       "847    NaN\n",
       "848    NaN\n",
       "849    NaN\n",
       "Name: default, Length: 850, dtype: float64"
      ]
     },
     "execution_count": 11,
     "metadata": {},
     "output_type": "execute_result"
    }
   ],
   "source": [
    "defaulter_vals = df['default']\n",
    "defaulter_vals"
   ]
  },
  {
   "cell_type": "code",
   "execution_count": 12,
   "metadata": {},
   "outputs": [
    {
     "data": {
      "text/plain": [
       "0      3\n",
       "1      1\n",
       "2      1\n",
       "3      1\n",
       "4      2\n",
       "      ..\n",
       "845    1\n",
       "846    2\n",
       "847    1\n",
       "848    2\n",
       "849    1\n",
       "Name: ed, Length: 850, dtype: int64"
      ]
     },
     "execution_count": 12,
     "metadata": {},
     "output_type": "execute_result"
    }
   ],
   "source": [
    "ed = df['ed']\n",
    "ed"
   ]
  },
  {
   "cell_type": "code",
   "execution_count": 13,
   "metadata": {},
   "outputs": [],
   "source": [
    "df = df.drop(['default', 'ed'], axis = 1)"
   ]
  },
  {
   "cell_type": "code",
   "execution_count": 14,
   "metadata": {},
   "outputs": [
    {
     "data": {
      "text/plain": [
       "(850, 7)"
      ]
     },
     "execution_count": 14,
     "metadata": {},
     "output_type": "execute_result"
    }
   ],
   "source": [
    "df.shape"
   ]
  },
  {
   "cell_type": "code",
   "execution_count": 15,
   "metadata": {},
   "outputs": [
    {
     "data": {
      "text/html": [
       "<div>\n",
       "<style scoped>\n",
       "    .dataframe tbody tr th:only-of-type {\n",
       "        vertical-align: middle;\n",
       "    }\n",
       "\n",
       "    .dataframe tbody tr th {\n",
       "        vertical-align: top;\n",
       "    }\n",
       "\n",
       "    .dataframe thead th {\n",
       "        text-align: right;\n",
       "    }\n",
       "</style>\n",
       "<table border=\"1\" class=\"dataframe\">\n",
       "  <thead>\n",
       "    <tr style=\"text-align: right;\">\n",
       "      <th></th>\n",
       "      <th>age</th>\n",
       "      <th>employ</th>\n",
       "      <th>address</th>\n",
       "      <th>income</th>\n",
       "      <th>debtinc</th>\n",
       "      <th>creddebt</th>\n",
       "      <th>othdebt</th>\n",
       "    </tr>\n",
       "  </thead>\n",
       "  <tbody>\n",
       "    <tr>\n",
       "      <th>0</th>\n",
       "      <td>41</td>\n",
       "      <td>17</td>\n",
       "      <td>12</td>\n",
       "      <td>176</td>\n",
       "      <td>9.3</td>\n",
       "      <td>11.359392</td>\n",
       "      <td>5.008608</td>\n",
       "    </tr>\n",
       "    <tr>\n",
       "      <th>1</th>\n",
       "      <td>27</td>\n",
       "      <td>10</td>\n",
       "      <td>6</td>\n",
       "      <td>31</td>\n",
       "      <td>17.3</td>\n",
       "      <td>1.362202</td>\n",
       "      <td>4.000798</td>\n",
       "    </tr>\n",
       "    <tr>\n",
       "      <th>2</th>\n",
       "      <td>40</td>\n",
       "      <td>15</td>\n",
       "      <td>14</td>\n",
       "      <td>55</td>\n",
       "      <td>5.5</td>\n",
       "      <td>0.856075</td>\n",
       "      <td>2.168925</td>\n",
       "    </tr>\n",
       "    <tr>\n",
       "      <th>3</th>\n",
       "      <td>41</td>\n",
       "      <td>15</td>\n",
       "      <td>14</td>\n",
       "      <td>120</td>\n",
       "      <td>2.9</td>\n",
       "      <td>2.658720</td>\n",
       "      <td>0.821280</td>\n",
       "    </tr>\n",
       "    <tr>\n",
       "      <th>4</th>\n",
       "      <td>24</td>\n",
       "      <td>2</td>\n",
       "      <td>0</td>\n",
       "      <td>28</td>\n",
       "      <td>17.3</td>\n",
       "      <td>1.787436</td>\n",
       "      <td>3.056564</td>\n",
       "    </tr>\n",
       "  </tbody>\n",
       "</table>\n",
       "</div>"
      ],
      "text/plain": [
       "   age  employ  address  income  debtinc   creddebt   othdebt\n",
       "0   41      17       12     176      9.3  11.359392  5.008608\n",
       "1   27      10        6      31     17.3   1.362202  4.000798\n",
       "2   40      15       14      55      5.5   0.856075  2.168925\n",
       "3   41      15       14     120      2.9   2.658720  0.821280\n",
       "4   24       2        0      28     17.3   1.787436  3.056564"
      ]
     },
     "execution_count": 15,
     "metadata": {},
     "output_type": "execute_result"
    }
   ],
   "source": [
    "df.head()"
   ]
  },
  {
   "cell_type": "code",
   "execution_count": 16,
   "metadata": {},
   "outputs": [
    {
     "data": {
      "text/plain": [
       "['age', 'employ', 'address', 'income', 'debtinc', 'creddebt', 'othdebt']"
      ]
     },
     "execution_count": 16,
     "metadata": {},
     "output_type": "execute_result"
    }
   ],
   "source": [
    "cnames = ['age', 'employ', 'address', 'income', 'debtinc', 'creddebt','othdebt']\n",
    "cnames"
   ]
  },
  {
   "cell_type": "code",
   "execution_count": 17,
   "metadata": {},
   "outputs": [],
   "source": [
    "#detecting outliers from data and replacing with nan"
   ]
  },
  {
   "cell_type": "code",
   "execution_count": 18,
   "metadata": {},
   "outputs": [
    {
     "name": "stdout",
     "output_type": "stream",
     "text": [
      "age\n",
      "employ\n",
      "address\n",
      "income\n",
      "debtinc\n",
      "creddebt\n",
      "othdebt\n"
     ]
    }
   ],
   "source": [
    "for i in cnames:\n",
    "    print(i)\n",
    "    q75, q25 = np.percentile(df.loc[:,i], [75,25])\n",
    "    #print(q75)\n",
    "    #print(q25)\n",
    "    iqr = q75 - q25\n",
    "    #print(iqr)\n",
    "    min = q25 - (iqr*1.5)\n",
    "    #print(min)\n",
    "    max = q75 + (iqr*1.5)\n",
    "    #print(max)\n",
    "    #Replacing with NA\n",
    "    df.loc[df[i] < min, :i] = np.nan\n",
    "    df.loc[df[i] > max, :i] = np.nan"
   ]
  },
  {
   "cell_type": "code",
   "execution_count": 19,
   "metadata": {},
   "outputs": [
    {
     "data": {
      "text/plain": [
       "age         149\n",
       "employ      149\n",
       "address     148\n",
       "income      137\n",
       "debtinc     111\n",
       "creddebt    103\n",
       "othdebt      61\n",
       "dtype: int64"
      ]
     },
     "execution_count": 19,
     "metadata": {},
     "output_type": "execute_result"
    }
   ],
   "source": [
    "df.isnull().sum()"
   ]
  },
  {
   "cell_type": "code",
   "execution_count": 20,
   "metadata": {},
   "outputs": [
    {
     "name": "stdout",
     "output_type": "stream",
     "text": [
      "Imputing row 1/850 with 6 missing, elapsed time: 0.150\n",
      "Imputing row 101/850 with 4 missing, elapsed time: 0.162\n",
      "Imputing row 201/850 with 0 missing, elapsed time: 0.165\n",
      "Imputing row 301/850 with 7 missing, elapsed time: 0.167\n",
      "Imputing row 401/850 with 0 missing, elapsed time: 0.170\n",
      "Imputing row 501/850 with 0 missing, elapsed time: 0.173\n",
      "Imputing row 601/850 with 0 missing, elapsed time: 0.177\n",
      "Imputing row 701/850 with 0 missing, elapsed time: 0.182\n",
      "Imputing row 801/850 with 0 missing, elapsed time: 0.186\n",
      "[KNN] Warning: 427/5950 still missing after imputation, replacing with 0\n"
     ]
    }
   ],
   "source": [
    "df = pd.DataFrame(KNN(k = 3).fit_transform(df), columns = df.columns)"
   ]
  },
  {
   "cell_type": "code",
   "execution_count": 21,
   "metadata": {},
   "outputs": [
    {
     "data": {
      "text/plain": [
       "age         0\n",
       "employ      0\n",
       "address     0\n",
       "income      0\n",
       "debtinc     0\n",
       "creddebt    0\n",
       "othdebt     0\n",
       "dtype: int64"
      ]
     },
     "execution_count": 21,
     "metadata": {},
     "output_type": "execute_result"
    }
   ],
   "source": [
    "df.isnull().sum()"
   ]
  },
  {
   "cell_type": "code",
   "execution_count": 22,
   "metadata": {},
   "outputs": [],
   "source": [
    "df = df.join(defaulter_vals)"
   ]
  },
  {
   "cell_type": "code",
   "execution_count": 23,
   "metadata": {},
   "outputs": [],
   "source": [
    "df = df.join(ed)"
   ]
  },
  {
   "cell_type": "code",
   "execution_count": 24,
   "metadata": {},
   "outputs": [
    {
     "data": {
      "text/html": [
       "<div>\n",
       "<style scoped>\n",
       "    .dataframe tbody tr th:only-of-type {\n",
       "        vertical-align: middle;\n",
       "    }\n",
       "\n",
       "    .dataframe tbody tr th {\n",
       "        vertical-align: top;\n",
       "    }\n",
       "\n",
       "    .dataframe thead th {\n",
       "        text-align: right;\n",
       "    }\n",
       "</style>\n",
       "<table border=\"1\" class=\"dataframe\">\n",
       "  <thead>\n",
       "    <tr style=\"text-align: right;\">\n",
       "      <th></th>\n",
       "      <th>age</th>\n",
       "      <th>ed</th>\n",
       "      <th>employ</th>\n",
       "      <th>address</th>\n",
       "      <th>income</th>\n",
       "      <th>debtinc</th>\n",
       "      <th>creddebt</th>\n",
       "      <th>othdebt</th>\n",
       "      <th>default</th>\n",
       "    </tr>\n",
       "  </thead>\n",
       "  <tbody>\n",
       "    <tr>\n",
       "      <th>0</th>\n",
       "      <td>31.611090</td>\n",
       "      <td>3</td>\n",
       "      <td>6.144205</td>\n",
       "      <td>8.649856</td>\n",
       "      <td>43.600581</td>\n",
       "      <td>18.500435</td>\n",
       "      <td>2.326202</td>\n",
       "      <td>5.008608</td>\n",
       "      <td>1.0</td>\n",
       "    </tr>\n",
       "    <tr>\n",
       "      <th>1</th>\n",
       "      <td>27.000000</td>\n",
       "      <td>1</td>\n",
       "      <td>10.000000</td>\n",
       "      <td>6.000000</td>\n",
       "      <td>31.000000</td>\n",
       "      <td>17.300000</td>\n",
       "      <td>1.362202</td>\n",
       "      <td>4.000798</td>\n",
       "      <td>0.0</td>\n",
       "    </tr>\n",
       "    <tr>\n",
       "      <th>2</th>\n",
       "      <td>40.000000</td>\n",
       "      <td>1</td>\n",
       "      <td>15.000000</td>\n",
       "      <td>14.000000</td>\n",
       "      <td>55.000000</td>\n",
       "      <td>5.500000</td>\n",
       "      <td>0.856075</td>\n",
       "      <td>2.168925</td>\n",
       "      <td>0.0</td>\n",
       "    </tr>\n",
       "    <tr>\n",
       "      <th>3</th>\n",
       "      <td>45.812528</td>\n",
       "      <td>1</td>\n",
       "      <td>17.114644</td>\n",
       "      <td>16.862865</td>\n",
       "      <td>82.601083</td>\n",
       "      <td>2.900000</td>\n",
       "      <td>2.658720</td>\n",
       "      <td>0.821280</td>\n",
       "      <td>0.0</td>\n",
       "    </tr>\n",
       "    <tr>\n",
       "      <th>4</th>\n",
       "      <td>24.000000</td>\n",
       "      <td>2</td>\n",
       "      <td>2.000000</td>\n",
       "      <td>0.000000</td>\n",
       "      <td>28.000000</td>\n",
       "      <td>17.300000</td>\n",
       "      <td>1.787436</td>\n",
       "      <td>3.056564</td>\n",
       "      <td>1.0</td>\n",
       "    </tr>\n",
       "  </tbody>\n",
       "</table>\n",
       "</div>"
      ],
      "text/plain": [
       "         age  ed     employ    address     income    debtinc  creddebt  \\\n",
       "0  31.611090   3   6.144205   8.649856  43.600581  18.500435  2.326202   \n",
       "1  27.000000   1  10.000000   6.000000  31.000000  17.300000  1.362202   \n",
       "2  40.000000   1  15.000000  14.000000  55.000000   5.500000  0.856075   \n",
       "3  45.812528   1  17.114644  16.862865  82.601083   2.900000  2.658720   \n",
       "4  24.000000   2   2.000000   0.000000  28.000000  17.300000  1.787436   \n",
       "\n",
       "    othdebt  default  \n",
       "0  5.008608      1.0  \n",
       "1  4.000798      0.0  \n",
       "2  2.168925      0.0  \n",
       "3  0.821280      0.0  \n",
       "4  3.056564      1.0  "
      ]
     },
     "execution_count": 24,
     "metadata": {},
     "output_type": "execute_result"
    }
   ],
   "source": [
    "cols = ['age', 'ed', 'employ', 'address', 'income', 'debtinc', 'creddebt', 'othdebt', 'default']\n",
    "df = df[cols]\n",
    "df.head()"
   ]
  },
  {
   "cell_type": "code",
   "execution_count": 25,
   "metadata": {},
   "outputs": [
    {
     "data": {
      "text/plain": [
       "(850, 9)"
      ]
     },
     "execution_count": 25,
     "metadata": {},
     "output_type": "execute_result"
    }
   ],
   "source": [
    "df.shape"
   ]
  },
  {
   "cell_type": "code",
   "execution_count": 26,
   "metadata": {},
   "outputs": [],
   "source": [
    "##Feature selection\n",
    "#Correlation analysis\n",
    "df_corr = df.loc[:,cnames]"
   ]
  },
  {
   "cell_type": "code",
   "execution_count": 27,
   "metadata": {},
   "outputs": [
    {
     "data": {
      "text/plain": [
       "<matplotlib.axes._subplots.AxesSubplot at 0x1ae20de32b0>"
      ]
     },
     "execution_count": 27,
     "metadata": {},
     "output_type": "execute_result"
    },
    {
     "data": {
      "image/png": "[encoded data removed]",
      "text/plain": [
       "<Figure size 504x360 with 2 Axes>"
      ]
     },
     "metadata": {
      "needs_background": "light"
     },
     "output_type": "display_data"
    }
   ],
   "source": [
    "#width and height of plot\n",
    "f, ax = plt.subplots(figsize=(7,5))\n",
    "#correlation matrix\n",
    "corr = df_corr.corr()\n",
    "\n",
    "sns.heatmap(corr, mask=np.zeros_like(corr, dtype=np.bool), cmap=sns.diverging_palette(220, 10, as_cmap=True),square=True, ax=ax)"
   ]
  },
  {
   "cell_type": "code",
   "execution_count": 28,
   "metadata": {},
   "outputs": [],
   "source": [
    "##Feature Scaling"
   ]
  },
  {
   "cell_type": "code",
   "execution_count": 29,
   "metadata": {},
   "outputs": [
    {
     "data": {
      "text/plain": [
       "(array([117., 117., 130.,  91.,  75.,  68.,  55.,  31.,  31.,  25.,  23.,\n",
       "         25.,  17.,   9.,   8.,   7.,   9.,  12.]),\n",
       " array([0.        , 0.45329356, 0.90658711, 1.35988067, 1.81317422,\n",
       "        2.26646778, 2.71976133, 3.17305489, 3.62634844, 4.079642  ,\n",
       "        4.53293556, 4.98622911, 5.43952267, 5.89281622, 6.34610978,\n",
       "        6.79940333, 7.25269689, 7.70599044, 8.159284  ]),\n",
       " <a list of 18 Patch objects>)"
      ]
     },
     "execution_count": 29,
     "metadata": {},
     "output_type": "execute_result"
    },
    {
     "data": {
      "image/png": "[encoded data removed]",
      "text/plain": [
       "<Figure size 432x288 with 1 Axes>"
      ]
     },
     "metadata": {
      "needs_background": "light"
     },
     "output_type": "display_data"
    }
   ],
   "source": [
    "plt.hist(df['othdebt'], bins='auto')"
   ]
  },
  {
   "cell_type": "code",
   "execution_count": 30,
   "metadata": {},
   "outputs": [
    {
     "data": {
      "text/plain": [
       "['age', 'employ', 'address', 'income', 'debtinc', 'creddebt', 'othdebt']"
      ]
     },
     "execution_count": 30,
     "metadata": {},
     "output_type": "execute_result"
    }
   ],
   "source": [
    "cnames"
   ]
  },
  {
   "cell_type": "code",
   "execution_count": 31,
   "metadata": {},
   "outputs": [],
   "source": [
    "#Standardising the values"
   ]
  },
  {
   "cell_type": "code",
   "execution_count": 32,
   "metadata": {},
   "outputs": [
    {
     "name": "stdout",
     "output_type": "stream",
     "text": [
      "age\n",
      "employ\n",
      "address\n",
      "income\n",
      "debtinc\n",
      "creddebt\n",
      "othdebt\n"
     ]
    }
   ],
   "source": [
    "for i in cnames:\n",
    "    print(i)\n",
    "    df[i] = (df[i] - df[i].mean())/df[i].std()"
   ]
  },
  {
   "cell_type": "code",
   "execution_count": 33,
   "metadata": {},
   "outputs": [
    {
     "data": {
      "text/html": [
       "<div>\n",
       "<style scoped>\n",
       "    .dataframe tbody tr th:only-of-type {\n",
       "        vertical-align: middle;\n",
       "    }\n",
       "\n",
       "    .dataframe tbody tr th {\n",
       "        vertical-align: top;\n",
       "    }\n",
       "\n",
       "    .dataframe thead th {\n",
       "        text-align: right;\n",
       "    }\n",
       "</style>\n",
       "<table border=\"1\" class=\"dataframe\">\n",
       "  <thead>\n",
       "    <tr style=\"text-align: right;\">\n",
       "      <th></th>\n",
       "      <th>age</th>\n",
       "      <th>ed</th>\n",
       "      <th>employ</th>\n",
       "      <th>address</th>\n",
       "      <th>income</th>\n",
       "      <th>debtinc</th>\n",
       "      <th>creddebt</th>\n",
       "      <th>othdebt</th>\n",
       "      <th>default</th>\n",
       "    </tr>\n",
       "  </thead>\n",
       "  <tbody>\n",
       "    <tr>\n",
       "      <th>0</th>\n",
       "      <td>-0.007193</td>\n",
       "      <td>3</td>\n",
       "      <td>-0.167153</td>\n",
       "      <td>0.256605</td>\n",
       "      <td>0.332457</td>\n",
       "      <td>1.735166</td>\n",
       "      <td>1.485981</td>\n",
       "      <td>1.520232</td>\n",
       "      <td>1.0</td>\n",
       "    </tr>\n",
       "    <tr>\n",
       "      <th>1</th>\n",
       "      <td>-0.412814</td>\n",
       "      <td>1</td>\n",
       "      <td>0.482907</td>\n",
       "      <td>-0.182364</td>\n",
       "      <td>-0.236921</td>\n",
       "      <td>1.527230</td>\n",
       "      <td>0.421656</td>\n",
       "      <td>0.977333</td>\n",
       "      <td>0.0</td>\n",
       "    </tr>\n",
       "    <tr>\n",
       "      <th>2</th>\n",
       "      <td>0.730751</td>\n",
       "      <td>1</td>\n",
       "      <td>1.325872</td>\n",
       "      <td>1.142898</td>\n",
       "      <td>0.847558</td>\n",
       "      <td>-0.516729</td>\n",
       "      <td>-0.137145</td>\n",
       "      <td>-0.009483</td>\n",
       "      <td>0.0</td>\n",
       "    </tr>\n",
       "    <tr>\n",
       "      <th>3</th>\n",
       "      <td>1.242059</td>\n",
       "      <td>1</td>\n",
       "      <td>1.682386</td>\n",
       "      <td>1.617153</td>\n",
       "      <td>2.094758</td>\n",
       "      <td>-0.967093</td>\n",
       "      <td>1.853105</td>\n",
       "      <td>-0.735449</td>\n",
       "      <td>0.0</td>\n",
       "    </tr>\n",
       "    <tr>\n",
       "      <th>4</th>\n",
       "      <td>-0.676714</td>\n",
       "      <td>2</td>\n",
       "      <td>-0.865837</td>\n",
       "      <td>-1.176311</td>\n",
       "      <td>-0.372481</td>\n",
       "      <td>1.527230</td>\n",
       "      <td>0.891145</td>\n",
       "      <td>0.468681</td>\n",
       "      <td>1.0</td>\n",
       "    </tr>\n",
       "    <tr>\n",
       "      <th>5</th>\n",
       "      <td>0.818717</td>\n",
       "      <td>2</td>\n",
       "      <td>-0.360058</td>\n",
       "      <td>-0.348022</td>\n",
       "      <td>-0.508040</td>\n",
       "      <td>0.297391</td>\n",
       "      <td>-0.648745</td>\n",
       "      <td>-0.015746</td>\n",
       "      <td>0.0</td>\n",
       "    </tr>\n",
       "    <tr>\n",
       "      <th>6</th>\n",
       "      <td>-2.787912</td>\n",
       "      <td>1</td>\n",
       "      <td>-1.203023</td>\n",
       "      <td>-1.176311</td>\n",
       "      <td>-1.637706</td>\n",
       "      <td>-1.469421</td>\n",
       "      <td>-1.082314</td>\n",
       "      <td>-1.177867</td>\n",
       "      <td>0.0</td>\n",
       "    </tr>\n",
       "    <tr>\n",
       "      <th>7</th>\n",
       "      <td>0.994651</td>\n",
       "      <td>1</td>\n",
       "      <td>0.820093</td>\n",
       "      <td>0.645924</td>\n",
       "      <td>0.079386</td>\n",
       "      <td>-0.845841</td>\n",
       "      <td>-0.940339</td>\n",
       "      <td>-0.510207</td>\n",
       "      <td>0.0</td>\n",
       "    </tr>\n",
       "    <tr>\n",
       "      <th>8</th>\n",
       "      <td>-0.676714</td>\n",
       "      <td>1</td>\n",
       "      <td>-0.697244</td>\n",
       "      <td>-0.513680</td>\n",
       "      <td>-0.779160</td>\n",
       "      <td>2.757070</td>\n",
       "      <td>0.417400</td>\n",
       "      <td>0.587780</td>\n",
       "      <td>1.0</td>\n",
       "    </tr>\n",
       "    <tr>\n",
       "      <th>9</th>\n",
       "      <td>0.378885</td>\n",
       "      <td>1</td>\n",
       "      <td>-1.203023</td>\n",
       "      <td>0.977240</td>\n",
       "      <td>-0.508040</td>\n",
       "      <td>1.942951</td>\n",
       "      <td>1.984468</td>\n",
       "      <td>-0.021133</td>\n",
       "      <td>0.0</td>\n",
       "    </tr>\n",
       "  </tbody>\n",
       "</table>\n",
       "</div>"
      ],
      "text/plain": [
       "        age  ed    employ   address    income   debtinc  creddebt   othdebt  \\\n",
       "0 -0.007193   3 -0.167153  0.256605  0.332457  1.735166  1.485981  1.520232   \n",
       "1 -0.412814   1  0.482907 -0.182364 -0.236921  1.527230  0.421656  0.977333   \n",
       "2  0.730751   1  1.325872  1.142898  0.847558 -0.516729 -0.137145 -0.009483   \n",
       "3  1.242059   1  1.682386  1.617153  2.094758 -0.967093  1.853105 -0.735449   \n",
       "4 -0.676714   2 -0.865837 -1.176311 -0.372481  1.527230  0.891145  0.468681   \n",
       "5  0.818717   2 -0.360058 -0.348022 -0.508040  0.297391 -0.648745 -0.015746   \n",
       "6 -2.787912   1 -1.203023 -1.176311 -1.637706 -1.469421 -1.082314 -1.177867   \n",
       "7  0.994651   1  0.820093  0.645924  0.079386 -0.845841 -0.940339 -0.510207   \n",
       "8 -0.676714   1 -0.697244 -0.513680 -0.779160  2.757070  0.417400  0.587780   \n",
       "9  0.378885   1 -1.203023  0.977240 -0.508040  1.942951  1.984468 -0.021133   \n",
       "\n",
       "   default  \n",
       "0      1.0  \n",
       "1      0.0  \n",
       "2      0.0  \n",
       "3      0.0  \n",
       "4      1.0  \n",
       "5      0.0  \n",
       "6      0.0  \n",
       "7      0.0  \n",
       "8      1.0  \n",
       "9      0.0  "
      ]
     },
     "execution_count": 33,
     "metadata": {},
     "output_type": "execute_result"
    }
   ],
   "source": [
    "df.head(10)"
   ]
  },
  {
   "cell_type": "code",
   "execution_count": 34,
   "metadata": {},
   "outputs": [],
   "source": [
    "df.to_csv('loan_data_preprocessed.csv')"
   ]
  },
  {
   "cell_type": "code",
   "execution_count": 35,
   "metadata": {},
   "outputs": [
    {
     "data": {
      "text/plain": [
       "age           0\n",
       "ed            0\n",
       "employ        0\n",
       "address       0\n",
       "income        0\n",
       "debtinc       0\n",
       "creddebt      0\n",
       "othdebt       0\n",
       "default     150\n",
       "dtype: int64"
      ]
     },
     "execution_count": 35,
     "metadata": {},
     "output_type": "execute_result"
    }
   ],
   "source": [
    "df.isnull().sum()"
   ]
  },
  {
   "cell_type": "code",
   "execution_count": 36,
   "metadata": {},
   "outputs": [],
   "source": [
    "##Creating two sets of data frames to deal with missing values in 'default' 1. by replacing missing values with 0 2. by imputing missing values using KNN "
   ]
  },
  {
   "cell_type": "code",
   "execution_count": 37,
   "metadata": {},
   "outputs": [],
   "source": [
    "##Dataframe-1 / replacing nan with 0"
   ]
  },
  {
   "cell_type": "code",
   "execution_count": 38,
   "metadata": {},
   "outputs": [],
   "source": [
    "loan_data_replaced = df.copy()"
   ]
  },
  {
   "cell_type": "code",
   "execution_count": 39,
   "metadata": {},
   "outputs": [],
   "source": [
    "loan_data_replaced['default'] = loan_data_replaced['default'].fillna(0)"
   ]
  },
  {
   "cell_type": "code",
   "execution_count": 40,
   "metadata": {},
   "outputs": [
    {
     "data": {
      "text/html": [
       "<div>\n",
       "<style scoped>\n",
       "    .dataframe tbody tr th:only-of-type {\n",
       "        vertical-align: middle;\n",
       "    }\n",
       "\n",
       "    .dataframe tbody tr th {\n",
       "        vertical-align: top;\n",
       "    }\n",
       "\n",
       "    .dataframe thead th {\n",
       "        text-align: right;\n",
       "    }\n",
       "</style>\n",
       "<table border=\"1\" class=\"dataframe\">\n",
       "  <thead>\n",
       "    <tr style=\"text-align: right;\">\n",
       "      <th></th>\n",
       "      <th>age</th>\n",
       "      <th>ed</th>\n",
       "      <th>employ</th>\n",
       "      <th>address</th>\n",
       "      <th>income</th>\n",
       "      <th>debtinc</th>\n",
       "      <th>creddebt</th>\n",
       "      <th>othdebt</th>\n",
       "      <th>default</th>\n",
       "    </tr>\n",
       "  </thead>\n",
       "  <tbody>\n",
       "    <tr>\n",
       "      <th>0</th>\n",
       "      <td>-0.007193</td>\n",
       "      <td>3</td>\n",
       "      <td>-0.167153</td>\n",
       "      <td>0.256605</td>\n",
       "      <td>0.332457</td>\n",
       "      <td>1.735166</td>\n",
       "      <td>1.485981</td>\n",
       "      <td>1.520232</td>\n",
       "      <td>1.0</td>\n",
       "    </tr>\n",
       "    <tr>\n",
       "      <th>1</th>\n",
       "      <td>-0.412814</td>\n",
       "      <td>1</td>\n",
       "      <td>0.482907</td>\n",
       "      <td>-0.182364</td>\n",
       "      <td>-0.236921</td>\n",
       "      <td>1.527230</td>\n",
       "      <td>0.421656</td>\n",
       "      <td>0.977333</td>\n",
       "      <td>0.0</td>\n",
       "    </tr>\n",
       "    <tr>\n",
       "      <th>2</th>\n",
       "      <td>0.730751</td>\n",
       "      <td>1</td>\n",
       "      <td>1.325872</td>\n",
       "      <td>1.142898</td>\n",
       "      <td>0.847558</td>\n",
       "      <td>-0.516729</td>\n",
       "      <td>-0.137145</td>\n",
       "      <td>-0.009483</td>\n",
       "      <td>0.0</td>\n",
       "    </tr>\n",
       "    <tr>\n",
       "      <th>3</th>\n",
       "      <td>1.242059</td>\n",
       "      <td>1</td>\n",
       "      <td>1.682386</td>\n",
       "      <td>1.617153</td>\n",
       "      <td>2.094758</td>\n",
       "      <td>-0.967093</td>\n",
       "      <td>1.853105</td>\n",
       "      <td>-0.735449</td>\n",
       "      <td>0.0</td>\n",
       "    </tr>\n",
       "    <tr>\n",
       "      <th>4</th>\n",
       "      <td>-0.676714</td>\n",
       "      <td>2</td>\n",
       "      <td>-0.865837</td>\n",
       "      <td>-1.176311</td>\n",
       "      <td>-0.372481</td>\n",
       "      <td>1.527230</td>\n",
       "      <td>0.891145</td>\n",
       "      <td>0.468681</td>\n",
       "      <td>1.0</td>\n",
       "    </tr>\n",
       "    <tr>\n",
       "      <th>...</th>\n",
       "      <td>...</td>\n",
       "      <td>...</td>\n",
       "      <td>...</td>\n",
       "      <td>...</td>\n",
       "      <td>...</td>\n",
       "      <td>...</td>\n",
       "      <td>...</td>\n",
       "      <td>...</td>\n",
       "      <td>...</td>\n",
       "    </tr>\n",
       "    <tr>\n",
       "      <th>835</th>\n",
       "      <td>0.378885</td>\n",
       "      <td>1</td>\n",
       "      <td>2.000243</td>\n",
       "      <td>0.148951</td>\n",
       "      <td>0.395692</td>\n",
       "      <td>0.626503</td>\n",
       "      <td>-0.066341</td>\n",
       "      <td>1.259606</td>\n",
       "      <td>0.0</td>\n",
       "    </tr>\n",
       "    <tr>\n",
       "      <th>836</th>\n",
       "      <td>0.072911</td>\n",
       "      <td>2</td>\n",
       "      <td>0.903027</td>\n",
       "      <td>0.221818</td>\n",
       "      <td>2.242699</td>\n",
       "      <td>0.016694</td>\n",
       "      <td>1.894720</td>\n",
       "      <td>1.046201</td>\n",
       "      <td>0.0</td>\n",
       "    </tr>\n",
       "    <tr>\n",
       "      <th>837</th>\n",
       "      <td>-0.060948</td>\n",
       "      <td>2</td>\n",
       "      <td>0.820093</td>\n",
       "      <td>0.148951</td>\n",
       "      <td>0.350505</td>\n",
       "      <td>0.193460</td>\n",
       "      <td>0.978998</td>\n",
       "      <td>0.091827</td>\n",
       "      <td>0.0</td>\n",
       "    </tr>\n",
       "    <tr>\n",
       "      <th>838</th>\n",
       "      <td>0.232179</td>\n",
       "      <td>1</td>\n",
       "      <td>0.824845</td>\n",
       "      <td>0.336201</td>\n",
       "      <td>1.888959</td>\n",
       "      <td>-0.759232</td>\n",
       "      <td>1.390892</td>\n",
       "      <td>0.177442</td>\n",
       "      <td>0.0</td>\n",
       "    </tr>\n",
       "    <tr>\n",
       "      <th>839</th>\n",
       "      <td>0.466851</td>\n",
       "      <td>1</td>\n",
       "      <td>-0.528651</td>\n",
       "      <td>0.480267</td>\n",
       "      <td>-0.553227</td>\n",
       "      <td>0.990258</td>\n",
       "      <td>-0.619505</td>\n",
       "      <td>0.432186</td>\n",
       "      <td>0.0</td>\n",
       "    </tr>\n",
       "  </tbody>\n",
       "</table>\n",
       "<p>840 rows × 9 columns</p>\n",
       "</div>"
      ],
      "text/plain": [
       "          age  ed    employ   address    income   debtinc  creddebt   othdebt  \\\n",
       "0   -0.007193   3 -0.167153  0.256605  0.332457  1.735166  1.485981  1.520232   \n",
       "1   -0.412814   1  0.482907 -0.182364 -0.236921  1.527230  0.421656  0.977333   \n",
       "2    0.730751   1  1.325872  1.142898  0.847558 -0.516729 -0.137145 -0.009483   \n",
       "3    1.242059   1  1.682386  1.617153  2.094758 -0.967093  1.853105 -0.735449   \n",
       "4   -0.676714   2 -0.865837 -1.176311 -0.372481  1.527230  0.891145  0.468681   \n",
       "..        ...  ..       ...       ...       ...       ...       ...       ...   \n",
       "835  0.378885   1  2.000243  0.148951  0.395692  0.626503 -0.066341  1.259606   \n",
       "836  0.072911   2  0.903027  0.221818  2.242699  0.016694  1.894720  1.046201   \n",
       "837 -0.060948   2  0.820093  0.148951  0.350505  0.193460  0.978998  0.091827   \n",
       "838  0.232179   1  0.824845  0.336201  1.888959 -0.759232  1.390892  0.177442   \n",
       "839  0.466851   1 -0.528651  0.480267 -0.553227  0.990258 -0.619505  0.432186   \n",
       "\n",
       "     default  \n",
       "0        1.0  \n",
       "1        0.0  \n",
       "2        0.0  \n",
       "3        0.0  \n",
       "4        1.0  \n",
       "..       ...  \n",
       "835      0.0  \n",
       "836      0.0  \n",
       "837      0.0  \n",
       "838      0.0  \n",
       "839      0.0  \n",
       "\n",
       "[840 rows x 9 columns]"
      ]
     },
     "execution_count": 40,
     "metadata": {},
     "output_type": "execute_result"
    }
   ],
   "source": [
    "loan_data_replaced.head(-10)"
   ]
  },
  {
   "cell_type": "code",
   "execution_count": 41,
   "metadata": {},
   "outputs": [],
   "source": [
    "loan_data_replaced.to_csv('loan_data_replaced.csv')"
   ]
  },
  {
   "cell_type": "code",
   "execution_count": 42,
   "metadata": {},
   "outputs": [],
   "source": [
    "## Dataframe calculating default with KNN"
   ]
  },
  {
   "cell_type": "code",
   "execution_count": 43,
   "metadata": {},
   "outputs": [
    {
     "data": {
      "text/plain": [
       "age           0\n",
       "ed            0\n",
       "employ        0\n",
       "address       0\n",
       "income        0\n",
       "debtinc       0\n",
       "creddebt      0\n",
       "othdebt       0\n",
       "default     150\n",
       "dtype: int64"
      ]
     },
     "execution_count": 43,
     "metadata": {},
     "output_type": "execute_result"
    }
   ],
   "source": [
    "loan_data_calc = df.copy()\n",
    "loan_data_calc.head()\n",
    "loan_data_calc.isnull().sum()"
   ]
  },
  {
   "cell_type": "code",
   "execution_count": 44,
   "metadata": {},
   "outputs": [
    {
     "name": "stdout",
     "output_type": "stream",
     "text": [
      "Imputing row 1/850 with 0 missing, elapsed time: 0.170\n",
      "Imputing row 101/850 with 0 missing, elapsed time: 0.171\n",
      "Imputing row 201/850 with 0 missing, elapsed time: 0.172\n",
      "Imputing row 301/850 with 0 missing, elapsed time: 0.173\n",
      "Imputing row 401/850 with 0 missing, elapsed time: 0.173\n",
      "Imputing row 501/850 with 0 missing, elapsed time: 0.174\n",
      "Imputing row 601/850 with 0 missing, elapsed time: 0.175\n",
      "Imputing row 701/850 with 1 missing, elapsed time: 0.176\n",
      "Imputing row 801/850 with 1 missing, elapsed time: 0.180\n"
     ]
    }
   ],
   "source": [
    "loan_data_calc = pd.DataFrame(KNN(k = 3).fit_transform(loan_data_calc), columns = loan_data_calc.columns)"
   ]
  },
  {
   "cell_type": "code",
   "execution_count": 45,
   "metadata": {},
   "outputs": [
    {
     "data": {
      "text/plain": [
       "array([1.        , 0.        , 0.6464242 , 0.2771395 , 0.27379109,\n",
       "       0.2598409 , 0.33333333, 0.45454061, 0.33467568, 0.343717  ,\n",
       "       0.7425724 , 0.42112028, 0.37780106, 0.71975498, 0.38105233,\n",
       "       0.59566579, 0.1705145 , 0.27623178, 0.31368483, 0.29519926,\n",
       "       0.99999998, 0.33897186, 0.71664524, 0.60166616, 0.53159933,\n",
       "       0.46619754, 0.39848608, 0.99999995, 0.3212941 , 0.46902952,\n",
       "       0.26207588, 0.32936981, 0.62866171, 0.62718433, 0.73402621,\n",
       "       0.35947993, 0.99999997, 0.67383434, 0.32384438, 0.52860446,\n",
       "       0.33274534, 0.83162327, 0.78799689, 0.21318789, 0.01122351,\n",
       "       0.43271099, 0.37266354, 0.2369099 , 0.99999998, 0.29749379,\n",
       "       0.19433237, 0.67043477, 0.66395863, 0.66666667, 0.57243092,\n",
       "       0.99999992, 0.34945536, 0.75239517, 0.30265938, 0.5053947 ,\n",
       "       0.99999997, 0.29743421, 0.33594081, 0.44906808])"
      ]
     },
     "execution_count": 45,
     "metadata": {},
     "output_type": "execute_result"
    }
   ],
   "source": [
    "loan_data_calc['default'].unique()"
   ]
  },
  {
   "cell_type": "code",
   "execution_count": 46,
   "metadata": {},
   "outputs": [
    {
     "data": {
      "text/plain": [
       "0.0    640\n",
       "1.0    210\n",
       "Name: default, dtype: int64"
      ]
     },
     "execution_count": 46,
     "metadata": {},
     "output_type": "execute_result"
    }
   ],
   "source": [
    "loan_data_calc = loan_data_calc.round({'default': 0})\n",
    "loan_data_calc['default'].value_counts()"
   ]
  },
  {
   "cell_type": "code",
   "execution_count": 47,
   "metadata": {},
   "outputs": [
    {
     "data": {
      "text/html": [
       "<div>\n",
       "<style scoped>\n",
       "    .dataframe tbody tr th:only-of-type {\n",
       "        vertical-align: middle;\n",
       "    }\n",
       "\n",
       "    .dataframe tbody tr th {\n",
       "        vertical-align: top;\n",
       "    }\n",
       "\n",
       "    .dataframe thead th {\n",
       "        text-align: right;\n",
       "    }\n",
       "</style>\n",
       "<table border=\"1\" class=\"dataframe\">\n",
       "  <thead>\n",
       "    <tr style=\"text-align: right;\">\n",
       "      <th></th>\n",
       "      <th>age</th>\n",
       "      <th>ed</th>\n",
       "      <th>employ</th>\n",
       "      <th>address</th>\n",
       "      <th>income</th>\n",
       "      <th>debtinc</th>\n",
       "      <th>creddebt</th>\n",
       "      <th>othdebt</th>\n",
       "      <th>default</th>\n",
       "    </tr>\n",
       "  </thead>\n",
       "  <tbody>\n",
       "    <tr>\n",
       "      <th>0</th>\n",
       "      <td>-0.007193</td>\n",
       "      <td>3.0</td>\n",
       "      <td>-0.167153</td>\n",
       "      <td>0.256605</td>\n",
       "      <td>0.332457</td>\n",
       "      <td>1.735166</td>\n",
       "      <td>1.485981</td>\n",
       "      <td>1.520232</td>\n",
       "      <td>1.0</td>\n",
       "    </tr>\n",
       "    <tr>\n",
       "      <th>1</th>\n",
       "      <td>-0.412814</td>\n",
       "      <td>1.0</td>\n",
       "      <td>0.482907</td>\n",
       "      <td>-0.182364</td>\n",
       "      <td>-0.236921</td>\n",
       "      <td>1.527230</td>\n",
       "      <td>0.421656</td>\n",
       "      <td>0.977333</td>\n",
       "      <td>0.0</td>\n",
       "    </tr>\n",
       "    <tr>\n",
       "      <th>2</th>\n",
       "      <td>0.730751</td>\n",
       "      <td>1.0</td>\n",
       "      <td>1.325872</td>\n",
       "      <td>1.142898</td>\n",
       "      <td>0.847558</td>\n",
       "      <td>-0.516729</td>\n",
       "      <td>-0.137145</td>\n",
       "      <td>-0.009483</td>\n",
       "      <td>0.0</td>\n",
       "    </tr>\n",
       "    <tr>\n",
       "      <th>3</th>\n",
       "      <td>1.242059</td>\n",
       "      <td>1.0</td>\n",
       "      <td>1.682386</td>\n",
       "      <td>1.617153</td>\n",
       "      <td>2.094758</td>\n",
       "      <td>-0.967093</td>\n",
       "      <td>1.853105</td>\n",
       "      <td>-0.735449</td>\n",
       "      <td>0.0</td>\n",
       "    </tr>\n",
       "    <tr>\n",
       "      <th>4</th>\n",
       "      <td>-0.676714</td>\n",
       "      <td>2.0</td>\n",
       "      <td>-0.865837</td>\n",
       "      <td>-1.176311</td>\n",
       "      <td>-0.372481</td>\n",
       "      <td>1.527230</td>\n",
       "      <td>0.891145</td>\n",
       "      <td>0.468681</td>\n",
       "      <td>1.0</td>\n",
       "    </tr>\n",
       "  </tbody>\n",
       "</table>\n",
       "</div>"
      ],
      "text/plain": [
       "        age   ed    employ   address    income   debtinc  creddebt   othdebt  \\\n",
       "0 -0.007193  3.0 -0.167153  0.256605  0.332457  1.735166  1.485981  1.520232   \n",
       "1 -0.412814  1.0  0.482907 -0.182364 -0.236921  1.527230  0.421656  0.977333   \n",
       "2  0.730751  1.0  1.325872  1.142898  0.847558 -0.516729 -0.137145 -0.009483   \n",
       "3  1.242059  1.0  1.682386  1.617153  2.094758 -0.967093  1.853105 -0.735449   \n",
       "4 -0.676714  2.0 -0.865837 -1.176311 -0.372481  1.527230  0.891145  0.468681   \n",
       "\n",
       "   default  \n",
       "0      1.0  \n",
       "1      0.0  \n",
       "2      0.0  \n",
       "3      0.0  \n",
       "4      1.0  "
      ]
     },
     "execution_count": 47,
     "metadata": {},
     "output_type": "execute_result"
    }
   ],
   "source": [
    "loan_data_calc.head()"
   ]
  },
  {
   "cell_type": "code",
   "execution_count": 48,
   "metadata": {},
   "outputs": [],
   "source": [
    "loan_data_calc.to_csv('loan_data_calc.csv')"
   ]
  },
  {
   "cell_type": "code",
   "execution_count": 49,
   "metadata": {},
   "outputs": [],
   "source": [
    "#Model Devolpment"
   ]
  },
  {
   "cell_type": "code",
   "execution_count": 50,
   "metadata": {},
   "outputs": [],
   "source": [
    "##Logistic Regression\n",
    "##Saving target variable"
   ]
  },
  {
   "cell_type": "code",
   "execution_count": 51,
   "metadata": {},
   "outputs": [],
   "source": [
    "loan_data_logit = pd.DataFrame(loan_data_calc['default'])"
   ]
  },
  {
   "cell_type": "code",
   "execution_count": 52,
   "metadata": {},
   "outputs": [],
   "source": [
    "#Adding continuous varaibles\n",
    "loan_data_logit = loan_data_logit.join(loan_data_calc[cnames])"
   ]
  },
  {
   "cell_type": "code",
   "execution_count": 53,
   "metadata": {},
   "outputs": [
    {
     "data": {
      "text/plain": [
       "(850, 8)"
      ]
     },
     "execution_count": 53,
     "metadata": {},
     "output_type": "execute_result"
    }
   ],
   "source": [
    "loan_data_logit.shape"
   ]
  },
  {
   "cell_type": "code",
   "execution_count": 54,
   "metadata": {},
   "outputs": [],
   "source": [
    "#creating dummies for categorical varaiable 'ed'\n",
    "temp = pd.get_dummies(loan_data_calc['ed'],prefix='ed')\n",
    "loan_data_logit = loan_data_logit.join(temp)"
   ]
  },
  {
   "cell_type": "code",
   "execution_count": 55,
   "metadata": {},
   "outputs": [],
   "source": [
    "sample_index = np.random.rand(len(loan_data_logit)) < 0.8\n",
    "\n",
    "train = loan_data_logit[sample_index]\n",
    "test = loan_data_logit[~sample_index]"
   ]
  },
  {
   "cell_type": "code",
   "execution_count": 56,
   "metadata": {},
   "outputs": [
    {
     "data": {
      "text/plain": [
       "(678, 13)"
      ]
     },
     "execution_count": 56,
     "metadata": {},
     "output_type": "execute_result"
    }
   ],
   "source": [
    "train.shape"
   ]
  },
  {
   "cell_type": "code",
   "execution_count": 57,
   "metadata": {},
   "outputs": [
    {
     "data": {
      "text/plain": [
       "Index(['age', 'employ', 'address', 'income', 'debtinc', 'creddebt', 'othdebt',\n",
       "       'ed_1.0', 'ed_2.0', 'ed_3.0', 'ed_4.0', 'ed_5.0'],\n",
       "      dtype='object')"
      ]
     },
     "execution_count": 57,
     "metadata": {},
     "output_type": "execute_result"
    }
   ],
   "source": [
    "train_cols = train.columns[1:]\n",
    "train_cols"
   ]
  },
  {
   "cell_type": "code",
   "execution_count": 58,
   "metadata": {},
   "outputs": [
    {
     "name": "stdout",
     "output_type": "stream",
     "text": [
      "Warning: Maximum number of iterations has been exceeded.\n",
      "         Current function value: 0.441843\n",
      "         Iterations: 35\n"
     ]
    },
    {
     "name": "stderr",
     "output_type": "stream",
     "text": [
      "C:\\Users\\Gaurav\\Anaconda3\\lib\\site-packages\\statsmodels\\base\\model.py:568: ConvergenceWarning: Maximum Likelihood optimization failed to converge. Check mle_retvals\n",
      "  \"Check mle_retvals\", ConvergenceWarning)\n"
     ]
    }
   ],
   "source": [
    "logit = sm.Logit(train['default'],train[train_cols]).fit()"
   ]
  },
  {
   "cell_type": "code",
   "execution_count": 59,
   "metadata": {},
   "outputs": [
    {
     "data": {
      "text/html": [
       "<table class=\"simpletable\">\n",
       "<caption>Logit Regression Results</caption>\n",
       "<tr>\n",
       "  <th>Dep. Variable:</th>        <td>default</td>     <th>  No. Observations:  </th>  <td>   678</td>  \n",
       "</tr>\n",
       "<tr>\n",
       "  <th>Model:</th>                 <td>Logit</td>      <th>  Df Residuals:      </th>  <td>   666</td>  \n",
       "</tr>\n",
       "<tr>\n",
       "  <th>Method:</th>                 <td>MLE</td>       <th>  Df Model:          </th>  <td>    11</td>  \n",
       "</tr>\n",
       "<tr>\n",
       "  <th>Date:</th>            <td>Tue, 17 Mar 2020</td> <th>  Pseudo R-squ.:     </th>  <td>0.2176</td>  \n",
       "</tr>\n",
       "<tr>\n",
       "  <th>Time:</th>                <td>01:41:30</td>     <th>  Log-Likelihood:    </th> <td> -299.57</td> \n",
       "</tr>\n",
       "<tr>\n",
       "  <th>converged:</th>             <td>False</td>      <th>  LL-Null:           </th> <td> -382.90</td> \n",
       "</tr>\n",
       "<tr>\n",
       "  <th>Covariance Type:</th>     <td>nonrobust</td>    <th>  LLR p-value:       </th> <td>5.725e-30</td>\n",
       "</tr>\n",
       "</table>\n",
       "<table class=\"simpletable\">\n",
       "<tr>\n",
       "      <td></td>        <th>coef</th>     <th>std err</th>      <th>z</th>      <th>P>|z|</th>  <th>[0.025</th>    <th>0.975]</th>  \n",
       "</tr>\n",
       "<tr>\n",
       "  <th>age</th>      <td>    0.2724</td> <td>    0.176</td> <td>    1.544</td> <td> 0.123</td> <td>   -0.073</td> <td>    0.618</td>\n",
       "</tr>\n",
       "<tr>\n",
       "  <th>employ</th>   <td>   -1.0349</td> <td>    0.200</td> <td>   -5.185</td> <td> 0.000</td> <td>   -1.426</td> <td>   -0.644</td>\n",
       "</tr>\n",
       "<tr>\n",
       "  <th>address</th>  <td>   -0.5278</td> <td>    0.151</td> <td>   -3.498</td> <td> 0.000</td> <td>   -0.823</td> <td>   -0.232</td>\n",
       "</tr>\n",
       "<tr>\n",
       "  <th>income</th>   <td>   -0.8528</td> <td>    0.307</td> <td>   -2.775</td> <td> 0.006</td> <td>   -1.455</td> <td>   -0.251</td>\n",
       "</tr>\n",
       "<tr>\n",
       "  <th>debtinc</th>  <td>   -0.0700</td> <td>    0.202</td> <td>   -0.346</td> <td> 0.729</td> <td>   -0.466</td> <td>    0.326</td>\n",
       "</tr>\n",
       "<tr>\n",
       "  <th>creddebt</th> <td>    0.8235</td> <td>    0.169</td> <td>    4.874</td> <td> 0.000</td> <td>    0.492</td> <td>    1.155</td>\n",
       "</tr>\n",
       "<tr>\n",
       "  <th>othdebt</th>  <td>    0.6581</td> <td>    0.218</td> <td>    3.017</td> <td> 0.003</td> <td>    0.231</td> <td>    1.086</td>\n",
       "</tr>\n",
       "<tr>\n",
       "  <th>ed_1.0</th>   <td>   -1.7545</td> <td>    0.168</td> <td>  -10.453</td> <td> 0.000</td> <td>   -2.084</td> <td>   -1.426</td>\n",
       "</tr>\n",
       "<tr>\n",
       "  <th>ed_2.0</th>   <td>   -1.5235</td> <td>    0.210</td> <td>   -7.253</td> <td> 0.000</td> <td>   -1.935</td> <td>   -1.112</td>\n",
       "</tr>\n",
       "<tr>\n",
       "  <th>ed_3.0</th>   <td>   -1.3414</td> <td>    0.305</td> <td>   -4.394</td> <td> 0.000</td> <td>   -1.940</td> <td>   -0.743</td>\n",
       "</tr>\n",
       "<tr>\n",
       "  <th>ed_4.0</th>   <td>   -0.9866</td> <td>    0.430</td> <td>   -2.297</td> <td> 0.022</td> <td>   -1.829</td> <td>   -0.145</td>\n",
       "</tr>\n",
       "<tr>\n",
       "  <th>ed_5.0</th>   <td>  -22.4720</td> <td> 4.01e+04</td> <td>   -0.001</td> <td> 1.000</td> <td>-7.86e+04</td> <td> 7.85e+04</td>\n",
       "</tr>\n",
       "</table>"
      ],
      "text/plain": [
       "<class 'statsmodels.iolib.summary.Summary'>\n",
       "\"\"\"\n",
       "                           Logit Regression Results                           \n",
       "==============================================================================\n",
       "Dep. Variable:                default   No. Observations:                  678\n",
       "Model:                          Logit   Df Residuals:                      666\n",
       "Method:                           MLE   Df Model:                           11\n",
       "Date:                Tue, 17 Mar 2020   Pseudo R-squ.:                  0.2176\n",
       "Time:                        01:41:30   Log-Likelihood:                -299.57\n",
       "converged:                      False   LL-Null:                       -382.90\n",
       "Covariance Type:            nonrobust   LLR p-value:                 5.725e-30\n",
       "==============================================================================\n",
       "                 coef    std err          z      P>|z|      [0.025      0.975]\n",
       "------------------------------------------------------------------------------\n",
       "age            0.2724      0.176      1.544      0.123      -0.073       0.618\n",
       "employ        -1.0349      0.200     -5.185      0.000      -1.426      -0.644\n",
       "address       -0.5278      0.151     -3.498      0.000      -0.823      -0.232\n",
       "income        -0.8528      0.307     -2.775      0.006      -1.455      -0.251\n",
       "debtinc       -0.0700      0.202     -0.346      0.729      -0.466       0.326\n",
       "creddebt       0.8235      0.169      4.874      0.000       0.492       1.155\n",
       "othdebt        0.6581      0.218      3.017      0.003       0.231       1.086\n",
       "ed_1.0        -1.7545      0.168    -10.453      0.000      -2.084      -1.426\n",
       "ed_2.0        -1.5235      0.210     -7.253      0.000      -1.935      -1.112\n",
       "ed_3.0        -1.3414      0.305     -4.394      0.000      -1.940      -0.743\n",
       "ed_4.0        -0.9866      0.430     -2.297      0.022      -1.829      -0.145\n",
       "ed_5.0       -22.4720   4.01e+04     -0.001      1.000   -7.86e+04    7.85e+04\n",
       "==============================================================================\n",
       "\"\"\""
      ]
     },
     "execution_count": 59,
     "metadata": {},
     "output_type": "execute_result"
    }
   ],
   "source": [
    "logit.summary()"
   ]
  },
  {
   "cell_type": "code",
   "execution_count": 60,
   "metadata": {},
   "outputs": [
    {
     "name": "stderr",
     "output_type": "stream",
     "text": [
      "C:\\Users\\Gaurav\\Anaconda3\\lib\\site-packages\\ipykernel_launcher.py:2: SettingWithCopyWarning: \n",
      "A value is trying to be set on a copy of a slice from a DataFrame.\n",
      "Try using .loc[row_indexer,col_indexer] = value instead\n",
      "\n",
      "See the caveats in the documentation: https://pandas.pydata.org/pandas-docs/stable/user_guide/indexing.html#returning-a-view-versus-a-copy\n",
      "  \n",
      "C:\\Users\\Gaurav\\Anaconda3\\lib\\site-packages\\ipykernel_launcher.py:3: SettingWithCopyWarning: \n",
      "A value is trying to be set on a copy of a slice from a DataFrame.\n",
      "Try using .loc[row_indexer,col_indexer] = value instead\n",
      "\n",
      "See the caveats in the documentation: https://pandas.pydata.org/pandas-docs/stable/user_guide/indexing.html#returning-a-view-versus-a-copy\n",
      "  This is separate from the ipykernel package so we can avoid doing imports until\n",
      "C:\\Users\\Gaurav\\Anaconda3\\lib\\site-packages\\pandas\\core\\indexing.py:964: SettingWithCopyWarning: \n",
      "A value is trying to be set on a copy of a slice from a DataFrame.\n",
      "Try using .loc[row_indexer,col_indexer] = value instead\n",
      "\n",
      "See the caveats in the documentation: https://pandas.pydata.org/pandas-docs/stable/user_guide/indexing.html#returning-a-view-versus-a-copy\n",
      "  self.obj[item] = s\n"
     ]
    }
   ],
   "source": [
    "#Predecting test data\n",
    "test['Actual_prob'] = logit.predict(test[train_cols])\n",
    "test['ActualVal'] = 1\n",
    "test.loc[test.Actual_prob < 0.5, 'ActualVal'] = 0"
   ]
  },
  {
   "cell_type": "code",
   "execution_count": 61,
   "metadata": {},
   "outputs": [
    {
     "data": {
      "text/html": [
       "<div>\n",
       "<style scoped>\n",
       "    .dataframe tbody tr th:only-of-type {\n",
       "        vertical-align: middle;\n",
       "    }\n",
       "\n",
       "    .dataframe tbody tr th {\n",
       "        vertical-align: top;\n",
       "    }\n",
       "\n",
       "    .dataframe thead th {\n",
       "        text-align: right;\n",
       "    }\n",
       "</style>\n",
       "<table border=\"1\" class=\"dataframe\">\n",
       "  <thead>\n",
       "    <tr style=\"text-align: right;\">\n",
       "      <th></th>\n",
       "      <th>default</th>\n",
       "      <th>age</th>\n",
       "      <th>employ</th>\n",
       "      <th>address</th>\n",
       "      <th>income</th>\n",
       "      <th>debtinc</th>\n",
       "      <th>creddebt</th>\n",
       "      <th>othdebt</th>\n",
       "      <th>ed_1.0</th>\n",
       "      <th>ed_2.0</th>\n",
       "      <th>ed_3.0</th>\n",
       "      <th>ed_4.0</th>\n",
       "      <th>ed_5.0</th>\n",
       "      <th>Actual_prob</th>\n",
       "      <th>ActualVal</th>\n",
       "    </tr>\n",
       "  </thead>\n",
       "  <tbody>\n",
       "    <tr>\n",
       "      <th>2</th>\n",
       "      <td>0.0</td>\n",
       "      <td>0.730751</td>\n",
       "      <td>1.325872</td>\n",
       "      <td>1.142898</td>\n",
       "      <td>0.847558</td>\n",
       "      <td>-0.516729</td>\n",
       "      <td>-0.137145</td>\n",
       "      <td>-0.009483</td>\n",
       "      <td>1</td>\n",
       "      <td>0</td>\n",
       "      <td>0</td>\n",
       "      <td>0</td>\n",
       "      <td>0</td>\n",
       "      <td>0.012912</td>\n",
       "      <td>0</td>\n",
       "    </tr>\n",
       "    <tr>\n",
       "      <th>14</th>\n",
       "      <td>0.0</td>\n",
       "      <td>1.434483</td>\n",
       "      <td>2.506022</td>\n",
       "      <td>1.308555</td>\n",
       "      <td>2.880956</td>\n",
       "      <td>0.106852</td>\n",
       "      <td>3.006839</td>\n",
       "      <td>1.729079</td>\n",
       "      <td>1</td>\n",
       "      <td>0</td>\n",
       "      <td>0</td>\n",
       "      <td>0</td>\n",
       "      <td>0</td>\n",
       "      <td>0.029362</td>\n",
       "      <td>0</td>\n",
       "    </tr>\n",
       "    <tr>\n",
       "      <th>21</th>\n",
       "      <td>0.0</td>\n",
       "      <td>1.346517</td>\n",
       "      <td>1.663058</td>\n",
       "      <td>2.302502</td>\n",
       "      <td>0.305319</td>\n",
       "      <td>-0.499407</td>\n",
       "      <td>-0.433614</td>\n",
       "      <td>-0.197205</td>\n",
       "      <td>1</td>\n",
       "      <td>0</td>\n",
       "      <td>0</td>\n",
       "      <td>0</td>\n",
       "      <td>0</td>\n",
       "      <td>0.006456</td>\n",
       "      <td>0</td>\n",
       "    </tr>\n",
       "    <tr>\n",
       "      <th>25</th>\n",
       "      <td>0.0</td>\n",
       "      <td>-0.588748</td>\n",
       "      <td>-1.203023</td>\n",
       "      <td>-0.844995</td>\n",
       "      <td>-0.191734</td>\n",
       "      <td>1.579195</td>\n",
       "      <td>1.280578</td>\n",
       "      <td>0.703161</td>\n",
       "      <td>0</td>\n",
       "      <td>0</td>\n",
       "      <td>0</td>\n",
       "      <td>1</td>\n",
       "      <td>0</td>\n",
       "      <td>0.892286</td>\n",
       "      <td>1</td>\n",
       "    </tr>\n",
       "    <tr>\n",
       "      <th>39</th>\n",
       "      <td>0.0</td>\n",
       "      <td>1.170584</td>\n",
       "      <td>2.674615</td>\n",
       "      <td>-0.348022</td>\n",
       "      <td>0.621625</td>\n",
       "      <td>-0.741911</td>\n",
       "      <td>-0.465579</td>\n",
       "      <td>-0.347526</td>\n",
       "      <td>1</td>\n",
       "      <td>0</td>\n",
       "      <td>0</td>\n",
       "      <td>0</td>\n",
       "      <td>0</td>\n",
       "      <td>0.005998</td>\n",
       "      <td>0</td>\n",
       "    </tr>\n",
       "  </tbody>\n",
       "</table>\n",
       "</div>"
      ],
      "text/plain": [
       "    default       age    employ   address    income   debtinc  creddebt  \\\n",
       "2       0.0  0.730751  1.325872  1.142898  0.847558 -0.516729 -0.137145   \n",
       "14      0.0  1.434483  2.506022  1.308555  2.880956  0.106852  3.006839   \n",
       "21      0.0  1.346517  1.663058  2.302502  0.305319 -0.499407 -0.433614   \n",
       "25      0.0 -0.588748 -1.203023 -0.844995 -0.191734  1.579195  1.280578   \n",
       "39      0.0  1.170584  2.674615 -0.348022  0.621625 -0.741911 -0.465579   \n",
       "\n",
       "     othdebt  ed_1.0  ed_2.0  ed_3.0  ed_4.0  ed_5.0  Actual_prob  ActualVal  \n",
       "2  -0.009483       1       0       0       0       0     0.012912          0  \n",
       "14  1.729079       1       0       0       0       0     0.029362          0  \n",
       "21 -0.197205       1       0       0       0       0     0.006456          0  \n",
       "25  0.703161       0       0       0       1       0     0.892286          1  \n",
       "39 -0.347526       1       0       0       0       0     0.005998          0  "
      ]
     },
     "execution_count": 61,
     "metadata": {},
     "output_type": "execute_result"
    }
   ],
   "source": [
    "test.head()"
   ]
  },
  {
   "cell_type": "code",
   "execution_count": 62,
   "metadata": {},
   "outputs": [],
   "source": [
    "#Building confusion matrix\n",
    "CM = pd.crosstab(test['default'],test['ActualVal'])\n",
    "\n",
    "TN = CM.iloc[0,0]\n",
    "FN = CM.iloc[0,1]\n",
    "TP = CM.iloc[1,0]\n",
    "FP = CM.iloc[1,1]\n"
   ]
  },
  {
   "cell_type": "code",
   "execution_count": 63,
   "metadata": {},
   "outputs": [],
   "source": [
    "#Accuracy and false negative rate\n",
    "Accuracy_logit = ((TP+TN)*100)/(TN+TP+FN+FP)\n",
    "FNR_logit = (FN*100)/(FN+TP)\n"
   ]
  },
  {
   "cell_type": "code",
   "execution_count": 64,
   "metadata": {},
   "outputs": [
    {
     "data": {
      "text/plain": [
       "89.53488372093024"
      ]
     },
     "execution_count": 64,
     "metadata": {},
     "output_type": "execute_result"
    }
   ],
   "source": [
    "Accuracy_logit"
   ]
  },
  {
   "cell_type": "code",
   "execution_count": 65,
   "metadata": {},
   "outputs": [
    {
     "data": {
      "text/plain": [
       "23.076923076923077"
      ]
     },
     "execution_count": 65,
     "metadata": {},
     "output_type": "execute_result"
    }
   ],
   "source": [
    "FNR_logit"
   ]
  },
  {
   "cell_type": "code",
   "execution_count": 66,
   "metadata": {},
   "outputs": [],
   "source": [
    "##Decision Tree"
   ]
  },
  {
   "cell_type": "code",
   "execution_count": 67,
   "metadata": {},
   "outputs": [],
   "source": [
    "X = loan_data_calc.values[:,0:8]\n",
    "Y = loan_data_calc.values[:,8]"
   ]
  },
  {
   "cell_type": "code",
   "execution_count": 68,
   "metadata": {},
   "outputs": [],
   "source": [
    "##Splitting the data into train and test\n",
    "x_train, x_test, y_train, y_test = train_test_split(X, Y, test_size = 0.2)"
   ]
  },
  {
   "cell_type": "code",
   "execution_count": 69,
   "metadata": {},
   "outputs": [],
   "source": [
    "C50_model = tree.DecisionTreeClassifier(criterion='entropy').fit(x_train,y_train)"
   ]
  },
  {
   "cell_type": "code",
   "execution_count": 70,
   "metadata": {},
   "outputs": [],
   "source": [
    "C50_predictions = C50_model.predict(x_test)"
   ]
  },
  {
   "cell_type": "code",
   "execution_count": 71,
   "metadata": {},
   "outputs": [],
   "source": [
    "#Building confusion matrix\n",
    "CM = pd.crosstab(y_test,C50_predictions)\n",
    "\n",
    "TN = CM.iloc[0,0]\n",
    "FN = CM.iloc[0,1]\n",
    "TP = CM.iloc[1,0]\n",
    "FP = CM.iloc[1,1]"
   ]
  },
  {
   "cell_type": "code",
   "execution_count": 72,
   "metadata": {},
   "outputs": [],
   "source": [
    "#Accuracy and false negative rate\n",
    "Accuracy_tree = ((TP+TN)*100)/(TN+TP+FN+FP)\n",
    "FNR_tree = (FN*100)/(FN+TP)\n"
   ]
  },
  {
   "cell_type": "code",
   "execution_count": 73,
   "metadata": {},
   "outputs": [
    {
     "data": {
      "text/plain": [
       "74.70588235294117"
      ]
     },
     "execution_count": 73,
     "metadata": {},
     "output_type": "execute_result"
    }
   ],
   "source": [
    "Accuracy_tree"
   ]
  },
  {
   "cell_type": "code",
   "execution_count": 74,
   "metadata": {},
   "outputs": [
    {
     "data": {
      "text/plain": [
       "56.81818181818182"
      ]
     },
     "execution_count": 74,
     "metadata": {},
     "output_type": "execute_result"
    }
   ],
   "source": [
    "FNR_tree"
   ]
  },
  {
   "cell_type": "code",
   "execution_count": 75,
   "metadata": {},
   "outputs": [
    {
     "data": {
      "image/png": "[encoded data removed]",
      "text/plain": [
       "<Figure size 432x288 with 1 Axes>"
      ]
     },
     "metadata": {
      "needs_background": "light"
     },
     "output_type": "display_data"
    },
    {
     "data": {
      "image/png": "[encoded data removed]",
      "text/plain": [
       "<Figure size 432x288 with 1 Axes>"
      ]
     },
     "metadata": {
      "needs_background": "light"
     },
     "output_type": "display_data"
    }
   ],
   "source": [
    "skplt.metrics.plot_cumulative_gain(y_test, C50_model.predict_proba(x_test))\n",
    "skplt.metrics.plot_lift_curve(y_test, C50_model.predict_proba(x_test))\n",
    "plt.show()"
   ]
  },
  {
   "cell_type": "code",
   "execution_count": 76,
   "metadata": {},
   "outputs": [],
   "source": [
    "#Random Forest"
   ]
  },
  {
   "cell_type": "code",
   "execution_count": 77,
   "metadata": {},
   "outputs": [],
   "source": [
    "RF_model = RandomForestClassifier(n_estimators=20).fit(x_train,y_train)"
   ]
  },
  {
   "cell_type": "code",
   "execution_count": 78,
   "metadata": {},
   "outputs": [],
   "source": [
    "RF_predictions = RF_model.predict(x_test)"
   ]
  },
  {
   "cell_type": "code",
   "execution_count": 79,
   "metadata": {},
   "outputs": [],
   "source": [
    "#Building confusion matrix\n",
    "CM = pd.crosstab(y_test,RF_predictions)\n",
    "\n",
    "TN = CM.iloc[0,0]\n",
    "FN = CM.iloc[0,1]\n",
    "TP = CM.iloc[1,0]\n",
    "FP = CM.iloc[1,1]"
   ]
  },
  {
   "cell_type": "code",
   "execution_count": 80,
   "metadata": {},
   "outputs": [],
   "source": [
    "#Accuracy and false negative rate\n",
    "Accuracy_forest = ((TP+TN)*100)/(TN+TP+FN+FP)\n",
    "FNR_forest = (FN*100)/(FN+TP)"
   ]
  },
  {
   "cell_type": "code",
   "execution_count": 81,
   "metadata": {},
   "outputs": [
    {
     "data": {
      "text/plain": [
       "82.94117647058823"
      ]
     },
     "execution_count": 81,
     "metadata": {},
     "output_type": "execute_result"
    }
   ],
   "source": [
    "Accuracy_forest"
   ]
  },
  {
   "cell_type": "code",
   "execution_count": 82,
   "metadata": {},
   "outputs": [
    {
     "data": {
      "text/plain": [
       "39.473684210526315"
      ]
     },
     "execution_count": 82,
     "metadata": {},
     "output_type": "execute_result"
    }
   ],
   "source": [
    "FNR_forest"
   ]
  },
  {
   "cell_type": "code",
   "execution_count": 83,
   "metadata": {},
   "outputs": [
    {
     "data": {
      "image/png": "[encoded data removed]",
      "text/plain": [
       "<Figure size 432x288 with 1 Axes>"
      ]
     },
     "metadata": {
      "needs_background": "light"
     },
     "output_type": "display_data"
    },
    {
     "data": {
      "image/png": "[encoded data removed]",
      "text/plain": [
       "<Figure size 432x288 with 1 Axes>"
      ]
     },
     "metadata": {
      "needs_background": "light"
     },
     "output_type": "display_data"
    }
   ],
   "source": [
    "skplt.metrics.plot_cumulative_gain(y_test, RF_model.predict_proba(x_test))\n",
    "skplt.metrics.plot_lift_curve(y_test, RF_model.predict_proba(x_test))\n",
    "plt.show()"
   ]
  },
  {
   "cell_type": "code",
   "execution_count": 84,
   "metadata": {},
   "outputs": [],
   "source": [
    "##KNN "
   ]
  },
  {
   "cell_type": "code",
   "execution_count": 85,
   "metadata": {},
   "outputs": [],
   "source": [
    "KNN_model = KNeighborsClassifier(n_neighbors=4).fit(x_train, y_train)"
   ]
  },
  {
   "cell_type": "code",
   "execution_count": 86,
   "metadata": {},
   "outputs": [],
   "source": [
    "KNN_predictions = KNN_model.predict(x_test)"
   ]
  },
  {
   "cell_type": "code",
   "execution_count": 87,
   "metadata": {},
   "outputs": [],
   "source": [
    "#Building confusion matrix\n",
    "CM = pd.crosstab(y_test,KNN_predictions)\n",
    "\n",
    "TN = CM.iloc[0,0]\n",
    "FN = CM.iloc[0,1]\n",
    "TP = CM.iloc[1,0]\n",
    "FP = CM.iloc[1,1]"
   ]
  },
  {
   "cell_type": "code",
   "execution_count": 88,
   "metadata": {},
   "outputs": [],
   "source": [
    "#Accuracy and false negative rate\n",
    "Accuracy_KNN = ((TP+TN)*100)/(TN+TP+FN+FP)\n",
    "FNR_KNN = (FN*100)/(FN+TP)\n"
   ]
  },
  {
   "cell_type": "code",
   "execution_count": 89,
   "metadata": {},
   "outputs": [
    {
     "data": {
      "text/plain": [
       "89.41176470588235"
      ]
     },
     "execution_count": 89,
     "metadata": {},
     "output_type": "execute_result"
    }
   ],
   "source": [
    "Accuracy_KNN"
   ]
  },
  {
   "cell_type": "code",
   "execution_count": 90,
   "metadata": {},
   "outputs": [
    {
     "data": {
      "text/plain": [
       "21.21212121212121"
      ]
     },
     "execution_count": 90,
     "metadata": {},
     "output_type": "execute_result"
    }
   ],
   "source": [
    "FNR_KNN"
   ]
  },
  {
   "cell_type": "code",
   "execution_count": 91,
   "metadata": {},
   "outputs": [
    {
     "data": {
      "image/png": "[encoded data removed]",
      "text/plain": [
       "<Figure size 432x288 with 1 Axes>"
      ]
     },
     "metadata": {
      "needs_background": "light"
     },
     "output_type": "display_data"
    },
    {
     "data": {
      "image/png": "[encoded data removed]",
      "text/plain": [
       "<Figure size 432x288 with 1 Axes>"
      ]
     },
     "metadata": {
      "needs_background": "light"
     },
     "output_type": "display_data"
    }
   ],
   "source": [
    "skplt.metrics.plot_cumulative_gain(y_test, KNN_model.predict_proba(x_test))\n",
    "skplt.metrics.plot_lift_curve(y_test, KNN_model.predict_proba(x_test))\n",
    "plt.show()"
   ]
  },
  {
   "cell_type": "code",
   "execution_count": 92,
   "metadata": {},
   "outputs": [],
   "source": [
    "#Naive Bayes\n",
    "\n",
    "NB_model = GaussianNB().fit(x_train,y_train)"
   ]
  },
  {
   "cell_type": "code",
   "execution_count": 93,
   "metadata": {},
   "outputs": [],
   "source": [
    "NB_predictions = NB_model.predict(x_test)"
   ]
  },
  {
   "cell_type": "code",
   "execution_count": 94,
   "metadata": {},
   "outputs": [],
   "source": [
    "#Building confusion matrix\n",
    "CM = pd.crosstab(y_test,NB_predictions)\n",
    "\n",
    "TN = CM.iloc[0,0]\n",
    "FN = CM.iloc[0,1]\n",
    "TP = CM.iloc[1,0]\n",
    "FP = CM.iloc[1,1]"
   ]
  },
  {
   "cell_type": "code",
   "execution_count": 95,
   "metadata": {},
   "outputs": [],
   "source": [
    "#Accuracy and false negative rate\n",
    "Accuracy_NB = ((TP+TN)*100)/(TN+TP+FN+FP)\n",
    "FNR_NB = (FN*100)/(FN+TP)\n"
   ]
  },
  {
   "cell_type": "code",
   "execution_count": 96,
   "metadata": {},
   "outputs": [
    {
     "data": {
      "text/plain": [
       "72.3529411764706"
      ]
     },
     "execution_count": 96,
     "metadata": {},
     "output_type": "execute_result"
    }
   ],
   "source": [
    "Accuracy_NB"
   ]
  },
  {
   "cell_type": "code",
   "execution_count": 97,
   "metadata": {},
   "outputs": [
    {
     "data": {
      "text/plain": [
       "62.5"
      ]
     },
     "execution_count": 97,
     "metadata": {},
     "output_type": "execute_result"
    }
   ],
   "source": [
    "FNR_NB"
   ]
  },
  {
   "cell_type": "code",
   "execution_count": 98,
   "metadata": {},
   "outputs": [
    {
     "data": {
      "image/png": "[encoded data removed]",
      "text/plain": [
       "<Figure size 432x288 with 1 Axes>"
      ]
     },
     "metadata": {
      "needs_background": "light"
     },
     "output_type": "display_data"
    },
    {
     "data": {
      "image/png": "[encoded data removed]",
      "text/plain": [
       "<Figure size 432x288 with 1 Axes>"
      ]
     },
     "metadata": {
      "needs_background": "light"
     },
     "output_type": "display_data"
    }
   ],
   "source": [
    "skplt.metrics.plot_cumulative_gain(y_test, NB_model.predict_proba(x_test))\n",
    "skplt.metrics.plot_lift_curve(y_test, NB_model.predict_proba(x_test))\n",
    "plt.show()"
   ]
  }
 ],
 "metadata": {
  "kernelspec": {
   "display_name": "Python 3",
   "language": "python",
   "name": "python3"
  },
  "language_info": {
   "codemirror_mode": {
    "name": "ipython",
    "version": 3
   },
   "file_extension": ".py",
   "mimetype": "text/x-python",
   "name": "python",
   "nbconvert_exporter": "python",
   "pygments_lexer": "ipython3",
   "version": "3.7.3"
  }
 },
 "nbformat": 4,
 "nbformat_minor": 4
}
